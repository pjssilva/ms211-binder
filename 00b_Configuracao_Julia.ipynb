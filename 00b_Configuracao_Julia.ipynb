{
 "cells": [
  {
   "cell_type": "markdown",
   "metadata": {
    "tags": []
   },
   "source": [
    "# Usando Julia a primeira vez\n",
    "\n",
    "Para essas notas de aulas queremos usar cadernos de Julia baseados na versão 1.6 da linguagem.\n",
    "\n",
    "Estes cadernos, além de funcionarem como notas de aula, possuem código funcional. Creio que essa é uma ótima forma de explorar um pouco mais as ideias apresentadas no curso e fazer seus próprios experimentos.\n",
    "\n",
    "## Instalando os programas necessários\n",
    "\n",
    "Para poder rodar o código, você deve instalar a linguagem Julia em um computador ao qual você tenha acesso. Para isso, vá até o site da [Julia](https://julialang.org) e clique em \"Download\". Pegue o instalador adequado ao seu sistema operacional e siga as instruções. Uma opção para quem usa Windows é usar o [JuliaUp](https://www.microsoft.com/en-us/p/julia/9njnww8pvkmn). Ele pode ser instalado diretamente da loja de aplicativos do sistema.\n",
    "\n",
    "Sugiro criar um diretório de trabalho específico para o curso (no Windows procure usar um diretório que não contenha espaços no seu nome). No Windows, você pode iniciar o intepreador da Julia a partir do menu iniciar. No Linux, é mais natural abrir um terminal e digitar `julia`. Isso irá abrir o interpretador da linguagem no seu modo mais simples. Precisamos disso para instalar o ambiente Jupyter, que será capaz de lidar com os cadernos. No interpretador, digite:\n",
    "\n",
    "```julia\n",
    "ENV[\"CONDA_JL_USE_MINIFORGE\"] = \"1\"\n",
    "using Pkg\n",
    "Pkg.add([\"IJulia\", \"Plots\", \"LaTeXStrings\", \"PyPlot\", \"Polynomials\"])\n",
    "```\n",
    "\n",
    "Esses comandos irão instalar o [Jupyter](https://jupyter.org/), que é o sistema de cadernos interativos. Essa operação, aparentemente simples, vai baixar vários pacotes e demora um pouco. Por isso, sugiro deixar a Julia trabalhando e ir tomar um café. Note também que instalar Julia + Jupyter irá consumir cerca de 6Gb de espaço em disco, caso você não tenha o Python e o Jupyter instalados usando `conda` (ou Anaconda) disponível no seu `PATH`. Caso já tenha o Python + Jupyter instalados, o uso de disco deve ser em torno de 1-2Gb. \n",
    "\n",
    "## Acessando os materiais de aula\n",
    "\n",
    "Há várias maneiras de acessar os cadernos (arquivos .ipynb) da disciplina, que podem ser baixados do [GitHub](https://github.com/pjssilva/ms211). Abaixo as intruções para usar algumas das opções mais populares.\n",
    "\n",
    "### Acesso pelo Binder\n",
    "\n",
    "O Binder é um serviço online que oferece um ambiente completo para cursar essa disciplina, sem a necessidade de instalar programa algum em seu computador. Para acessar o Binder de MS211 basta clicar nesse link: https://mybinder.org/v2/gh/pjssilva/ms211-binder/HEAD\n",
    "\n",
    "Por mais que o Binder tenha a vantagem de ser facilmente acessado, ele é muito mais lento que uma instalação local de Jupyter. Para melhor otimizar esse aspecto, é recomendado usar uma das opções abaixo:\n",
    "\n",
    "### Acesso pelo Jupyter Notebook\n",
    "\n",
    "Se você preferiu usar os cadernos locamente (em vez de usar o Binder) você deve seguir as intruções de instalação do interpretador de Julia e do sistema Jupyter instalados. Feito isso, basta entrar na linha de comando mais uma vez, de novo digitar `julia` e então\n",
    "\n",
    "```julia\n",
    "using IJulia\n",
    "notebook(dir=homedir())\n",
    "```\n",
    "Obs: Se você estiver fazendo isso pela primeira vez o sistema pergunta se deve instalar o Jupyter usando conda. Diga `y` e se prepare para esperar terminar mais um processo de instalação.\n",
    "\n",
    "Isso vai iniciar o Jupyter Notebook no seu diretório padrão do sistema operacional e o browser abrirá uma nova aba para você selecionar um caderno e trabalhar com ele. \n",
    "\n",
    "### Acesso pelo Jupyter Lab\n",
    "\n",
    "O Jupyter Lab é uma interface mais refinada e mais moderna para os cadernos .ipynb, que tem recursos adicionais para maior comodidade (navegador de arquivos, temas, extensões, etc). Para usá-lo, você pode seguir as mesmas instruções do Jupyter Notebook e depois digitar em um terminal:\n",
    "\n",
    "```shell\n",
    "conda install -c conda-forge jupyterlab\n",
    "```\n",
    "\n",
    "E então, digite a seguinte na linha de comando Julia para iniciar o Jupyter Lab no seu computador:\n",
    "\n",
    "```julia\n",
    "using IJulia\n",
    "jupyterlab(dir=homedir())\n",
    "```\n",
    "\n",
    "Assim como no caso anterior, o Jupyter Lab vai ser aberto em uma nova aba do seu navegador no diretório padrão do sistema operacional.\n",
    "\n",
    "### Acesso pelo VS Code\n",
    "\n",
    "Também é possível acessar os cadernos pelo VS Code com poucas configurações. Para isso, basta instalar a [extensão Jupyter](https://marketplace.visualstudio.com/items?itemName=ms-toolsai.jupyterhttps://marketplace.visualstudio.com/items?itemName=ms-toolsai.jupyter) oferecida pela própria Microsoft. Depois disso, é só abrir qualquer arquivo do tipo .ipynb no editor para usar a extensão. O VS Code tenta selecionar o interpretador de Julia automaticamente, mas, caso não isso funcione, você pode escolher o interpretador manualmente clicando no botão que se encontra no canto superior direito da janela.\n",
    "\n",
    "## Testando seu setup\n",
    "\n",
    "Agora, vale a pena você seguir a leitura e executar os comandos abaixo para testar se os pacotes foram instalados corretamente. Rode o código abaixo mais uma vez colocando o cursor lá e apertando Shift-Enter no teclado. Se deu tudo certo, aparecerá o gráfico de uma função linear. Tenha um pouco de paciência, a primeira vez que você tenta gerar um gráfico é demorado. Os próximos gráficos devem aparecer mais rapidamente."
   ]
  },
  {
   "cell_type": "code",
   "execution_count": null,
   "metadata": {},
   "outputs": [],
   "source": [
    "# Carrega a biblioteca Plots para uso\n",
    "using Plots\n",
    "using LaTeXStrings\n",
    "\n",
    "# Gera um vetor de 100 pontos equiespaçados começando no 2 e terminando no 5.\n",
    "x = LinRange(2, 5, 100)\n",
    "plot(x, 2*x .+ 3, label=\"\")\n",
    "title!(L\"$f(x) = 2x + 3$\")"
   ]
  },
  {
   "cell_type": "markdown",
   "metadata": {},
   "source": [
    "Por fim, para provar que você chegou até aqui, rode o código abaixo para saber a resposta para obter a resposta para o primeiro quiz no Moodle."
   ]
  },
  {
   "cell_type": "code",
   "execution_count": null,
   "metadata": {},
   "outputs": [],
   "source": [
    "using Printf \n",
    "\n",
    "A = [pi 2*pi; 1 0]\n",
    "b = [1, 2.62]\n",
    "sol = A \\ b\n",
    "@printf \"A resposta é %.2f\\n\" sol[1]"
   ]
  }
 ],
 "metadata": {
  "kernelspec": {
   "display_name": "Julia 1.6.2",
   "language": "julia",
   "name": "julia-1.6"
  },
  "language_info": {
   "file_extension": ".jl",
   "mimetype": "application/julia",
   "name": "julia",
   "version": "1.6.2"
  },
  "latex_metadata": {
   "title": "Configurando Julia"
  }
 },
 "nbformat": 4,
 "nbformat_minor": 4
}
