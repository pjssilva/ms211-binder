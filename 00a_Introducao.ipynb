{
 "cells": [
  {
   "cell_type": "markdown",
   "metadata": {},
   "source": [
    "# Dedicatória\n",
    "\n",
    "À jovem Silvina de 18 anos que teimo em procurar do outro lado da sala.\n",
    "\n",
    "# Aviso\n",
    "\n",
    "Essas são notas pessoais que uso para preparar minhas aulas. Elas podem conter erros, imprecisões, etc. Se encontrar algo, avise.\n",
    "\n",
    "# Direitos autorais e licença\n",
    "\n",
    "Essas notas são de meu direito autoral e licenciadas ao leitores seguindo a licença Creative Commons [Atribuição-NãoComercial-CompatilhaIgual 4.0 Internacional](https://creativecommons.org/licenses/by-nc-sa/4.0/). Isso quer dizer que você pode baixar e compartilhar esse texto, que você pode modificá-lo contanto que dê a devida menção sobre a autoria original e que isso só pode ser feito para usos não comerciais. Além disso, ao distribuir a sua versão modificada, você deve usar uma licença semelhante. *Qualquer uso comercial deve ser autorizado explicitamente por mim.*\n",
    "\n",
    "Além disso, esse texto foi baseado inicialmente nas [notas de aula do Prof. Ricardo Biloti](http://www.ime.unicamp.br/~biloti/an/), colega de Unicamp. Porém, foram feitas tantas alterações que não me sinto à vontade de colocar o Ricardo como co-autor, assim ele não tem que pagar por meus equívocos e erros. As notas de aula do Ricardo também são licenciadas sob os mesmos termos.\n",
    "\n",
    "# Apresentação\n",
    "\n",
    "Essa já foi uma ideia um pouco radical: criar notas de aulas vivas, com o código. Agora viraram lugar comum. Que sorte vocês, caros alunos, têm de viver em um mundo assim. O objetivo é que vocês possam ler as notas e que também eles possam *testar as ideias*, mudando parâmetros ou o próprio algoritmo que está sendo descrito.\n",
    "\n",
    "Será que vocês vão gostar? Irão aproveitar? Creio que alguns sim, então parece algo que vale a pena tentar. \n",
    "\n",
    "Nessas notas de aula, vou usar a linguagem de programação [Julia](http://julialang.org/). Essa é uma nova linguagem de programação e uma parte do meu objetivo com esse texto é aprender um pouco de Julia. Ela foi especialmente desenvolvida para computação científica, mas é também uma linguagem de uso geral. Isso quer dizer que você tem algo com o poder de expressividade e simplicidade do Matlab, mas com uma linguagem de programação mais elegante. Outras vantagens óbvias são que ela é código livre, gratuita e compilada *just in time*. Esse tipo de compilação auxilia em garantir uma boa perfomance mesmo quando usamos operações não vetoriais, como laços explícitos, que normalmente são muito lentas em Matlab.\n",
    "\n",
    "Basicamente, o texto destas notas vai ser composto de dois tipos de células. Texto, como essa, em que explico o assunto e coloco minhas poderações. Há também células com código vivo, como abaixo. O que você vê ao lado do \"In\" é código em Julia. Se você colocar o cursor sobre essa célula, o código será executado na hora. O mais interessante é que o código pode ser editado, para alterar parâmetros ou testar uma variação, e depois executado mais uma vez."
   ]
  },
  {
   "cell_type": "code",
   "execution_count": null,
   "metadata": {},
   "outputs": [],
   "source": [
    "1 + 2"
   ]
  },
  {
   "cell_type": "markdown",
   "metadata": {},
   "source": [
    "Como teste, tente modificar a conta acima e execute-a. Para isso, selecione com o mouse a caixa de código. Digite uma nova operação ou altere os números e execute pressionando Shift-Enter no teclado."
   ]
  }
 ],
 "metadata": {
  "kernelspec": {
   "display_name": "Julia 1.6.2",
   "language": "julia",
   "name": "julia-1.6"
  },
  "language_info": {
   "file_extension": ".jl",
   "mimetype": "application/julia",
   "name": "julia",
   "version": "1.6.2"
  },
  "latex_metadata": {
   "title": "Preâmbulo"
  }
 },
 "nbformat": 4,
 "nbformat_minor": 1
}
